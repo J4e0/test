{
  "nbformat": 4,
  "nbformat_minor": 0,
  "metadata": {
    "colab": {
      "provenance": []
    },
    "kernelspec": {
      "name": "python3",
      "display_name": "Python 3"
    },
    "language_info": {
      "name": "python"
    }
  },
  "cells": [
    {
      "cell_type": "markdown",
      "source": [
        "# Project 2. 탱크 게임은 탱크이름 name, 살아있는지 여부를 판단하는 alive, 총을 쏠 수 있는 ammo, 그리고 방패역량을 보여주는 armor 라는 변수를 갖고 동작한다. 여러 탱크를 동시에 만들고, 살아남은 탱크가 하나만 남을 때까지 계속한다. 클래스를 구성하는 아래의 큰 틀과 설명을 참고하고, 게임을 실제로 실행할 때는 그 아래의 메인 코드를 사용할 것이다. (총 100점)"
      ],
      "metadata": {
        "id": "q8VpCMrh5v7A"
      }
    },
    {
      "cell_type": "markdown",
      "source": [
        "## 1) 클래스를 완성하라. "
      ],
      "metadata": {
        "id": "KYWBsk166Y24"
      }
    },
    {
      "cell_type": "code",
      "execution_count": null,
      "metadata": {
        "id": "xiYYpIo7jhFc"
      },
      "outputs": [],
      "source": [
        "class Tank:\n",
        "\n",
        "    def __init__(self, name):\n",
        "        self.name = name # name 은 받고, alive, ammo, armor 의 인스턴스 변수를 설정한다. \n",
        "        self.ammo = 5 # ammo 의 초기값은 5 (초기 포탄 갯수)\n",
        "        self.armor = 40 # armor 는 방어력으로 초기 40 \n",
        "        self.alive = True\n",
        "    def __str__(self): # 인스턴스가 print 안에서 호출 될 때마다 상태 업데이트해줌.\n",
        "\n",
        "        if self.alive == True : # 살아있는 경우 $\n",
        "            return \"%s (%i armor and %i shells left)\" % (self.name, self.armor, self.ammo)\n",
        "        else: # 죽은 경우 \n",
        "            return \"%s is DEAD !\" % self.name\n",
        "\n",
        "    def fire_at(self, enemy): # 현재 인스턴스가 다른 인스턴스를 공격. \n",
        "\n",
        "        if self.ammo > 0 : # 쏠 수 있는 포탄이 남아있는 경우 \n",
        "            self.ammo -= 1 # 포탄 갯수가 감소 \n",
        "            print(self.name, \" fires on \", enemy.name)\n",
        "           # 상대 탱크는 맞았기 때문에 맞았을 경우에 대한 메소드 실행. \n",
        "            enemy.hit()\n",
        "        else:\n",
        "            print(self.name, \" has no shells!\")\n",
        "\n",
        "    def hit(self):\n",
        "\n",
        "        self.armor -= 20 # 맞으면 기본 체력 20 감소 \n",
        "        print(self.name, \" is hit !\")\n",
        "        if self.armor <= 0  : # 방어력이 없으면 \n",
        "            self.explode() # 폭발됨. \n",
        "\n",
        "    def explode(self):\n",
        "        self.alive = False\n",
        "        print(self.name, \" explodes !!!!\")"
      ]
    },
    {
      "cell_type": "markdown",
      "source": [
        "## 2) 아래 코드는 게임을 실행하는 코드이다. alice, bob, crane 이라는 탱크 인스턴스를 세개 갖고 있는  tanks 라는 딕셔너리를 사용하여 세대의 탱크 중, 하나만 남을 때까지 게임을 지속하게 한다. 아래에서 예외처리에 해당하는 부분을 완성하여 클래스를 활용한 실행이 아래의 예와 같이 진행되도록 완성하라. \n",
        "\n",
        "```\n",
        "a Alice (40 armor and 5 shells left)\n",
        "b Bob (40 armor and 5 shells left)\n",
        "c Crane (40 armor and 5 shells left)\n",
        "Who fires (select from a, b, c)?a\n",
        "Who at (select from a, b, c) ?c\n",
        "******************************\n",
        "Alice  fires on  Crane\n",
        "Crane  is hit !\n",
        "******************************\n",
        "a Alice (40 armor and 4 shells left)\n",
        "b Bob (40 armor and 5 shells left)\n",
        "c Crane (20 armor and 5 shells left)\n",
        "Who fires (select from a, b, c)?a\n",
        "Who at (select from a, b, c) ?c\n",
        "******************************\n",
        "Alice  fires on  Crane\n",
        "Crane  is hit !\n",
        "Crane  explodes !!!!\n",
        "******************************\n",
        "a Alice (40 armor and 3 shells left)\n",
        "b Bob (40 armor and 5 shells left)\n",
        "c Crane is DEAD !\n",
        "Who fires (select from a, b, c)?a\n",
        "Who at (select from a, b, c) ?b\n",
        "******************************\n",
        "Alice  fires on  Bob\n",
        "Bob  is hit !\n",
        "******************************\n",
        "a Alice (40 armor and 2 shells left)\n",
        "b Bob (20 armor and 5 shells left)\n",
        "c Crane is DEAD !\n",
        "Who fires (select from a, b, c)?a\n",
        "Who at (select from a, b, c) ?b\n",
        "******************************\n",
        "Alice  fires on  Bob\n",
        "Bob  is hit !\n",
        "Bob  explodes !!!!\n",
        "******************************\n",
        "Alice  is the winner !\n",
        "\n",
        "```"
      ],
      "metadata": {
        "id": "HL3LMHC17lE7"
      }
    },
    {
      "cell_type": "code",
      "source": [
        "tanks = {\"a\": Tank(\"Alice\"), \"b\": Tank(\"Bob\"), \"c\": Tank(\"Crane\")}\n",
        "alive_tanks = len(tanks)\n",
        "\n",
        "while alive_tanks > 1: # 살아남은 탱크가 하나보다 많은 동안. \n",
        "\n",
        "    for tank_name in sorted(tanks):\n",
        "        print(tank_name, tanks[tank_name])\n",
        "\n",
        "    first = input(\"Who fires (select from a, b, c)?\").lower()\n",
        "    second = input(\"Who at (select from a, b, c) ?\").lower()\n",
        "\n",
        "    try :# 실행 \n",
        "        first_tank = tanks[first]\n",
        "        second_tank = tanks[second] # 첫번째 두번째 탱크 할당. \n",
        "    except KeyError as name : # KeyError 인 경우 에러를 name 에 담은 후 \n",
        "        print(\"No such Tank!\", name) # 에러 메세지 출력. \n",
        "        continue\n",
        "\n",
        "    print(\"*\"*30)\n",
        "\n",
        "    first_tank.fire_at(second_tank) # 첫번째 탱크가 두번째 탱크를 공격 \n",
        "    if not second_tank.alive:\n",
        "        alive_tanks -= 1\n",
        "\n",
        "    print(\"*\"*30)\n",
        "\n",
        "for tank in tanks.values():\n",
        "    if alive_tanks == 1: # 살아남은 탱크 하나에 대해 다음 출력함. \n",
        "        print(tank.name, \" is the winner !\")\n",
        "        break"
      ],
      "metadata": {
        "colab": {
          "base_uri": "https://localhost:8080/"
        },
        "id": "RbV4ohKtZZxj",
        "outputId": "fd3a4443-30a1-454e-bee6-76b0cc13dc7f"
      },
      "execution_count": null,
      "outputs": [
        {
          "output_type": "stream",
          "name": "stdout",
          "text": [
            "a Alice (40 armor and 5 shells left)\n",
            "b Bob (40 armor and 5 shells left)\n",
            "c Crane (40 armor and 5 shells left)\n",
            "Who fires (select from a, b, c)?a\n",
            "Who at (select from a, b, c) ?b\n",
            "******************************\n",
            "Alice  fires on  Bob\n",
            "Bob  is hit !\n",
            "******************************\n",
            "a Alice (40 armor and 4 shells left)\n",
            "b Bob (20 armor and 5 shells left)\n",
            "c Crane (40 armor and 5 shells left)\n",
            "Who fires (select from a, b, c)?a\n",
            "Who at (select from a, b, c) ?b\n",
            "******************************\n",
            "Alice  fires on  Bob\n",
            "Bob  is hit !\n",
            "Bob  explodes !!!!\n",
            "******************************\n",
            "a Alice (40 armor and 3 shells left)\n",
            "b Bob is DEAD !\n",
            "c Crane (40 armor and 5 shells left)\n",
            "Who fires (select from a, b, c)?a\n",
            "Who at (select from a, b, c) ?c\n",
            "Who fires (select from a, b, c)?a\n",
            "******************************\n",
            "Alice  fires on  Crane\n",
            "Crane  is hit !\n",
            "******************************\n",
            "a Alice (40 armor and 2 shells left)\n",
            "b Bob is DEAD !\n",
            "c Crane (20 armor and 5 shells left)\n",
            "Who at (select from a, b, c) ?c\n",
            "******************************\n",
            "Alice  fires on  Crane\n",
            "Crane  is hit !\n",
            "Crane  explodes !!!!\n",
            "******************************\n",
            "Alice  is the winner !\n"
          ]
        }
      ]
    },
    {
      "cell_type": "code",
      "source": [],
      "metadata": {
        "id": "ebgZmGI-Zm4s"
      },
      "execution_count": null,
      "outputs": []
    }
  ]
}